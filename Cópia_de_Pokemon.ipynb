{
  "nbformat": 4,
  "nbformat_minor": 0,
  "metadata": {
    "colab": {
      "name": "Cópia de Pokemon.ipynb",
      "provenance": [],
      "collapsed_sections": [],
      "toc_visible": true,
      "include_colab_link": true
    },
    "kernelspec": {
      "name": "python3",
      "display_name": "Python 3"
    }
  },
  "cells": [
    {
      "cell_type": "markdown",
      "metadata": {
        "id": "view-in-github",
        "colab_type": "text"
      },
      "source": [
        "<a href=\"https://colab.research.google.com/github/mflilian/PokemonUFABC/blob/main/C%C3%B3pia_de_Pokemon.ipynb\" target=\"_parent\"><img src=\"https://colab.research.google.com/assets/colab-badge.svg\" alt=\"Open In Colab\"/></a>"
      ]
    },
    {
      "cell_type": "markdown",
      "metadata": {
        "id": "tYTCVsbQ6ykW"
      },
      "source": [
        "## **Projeto Pokemón**\n",
        "\n",
        "Ponto Principal: Analisar alguns atributos dos Pokémons fazendo uso de gráficos, dados estatísticos ou análise de correlações e, em seguida, criar um relatório de análise com base no que foi observado. "
      ]
    },
    {
      "cell_type": "code",
      "metadata": {
        "id": "SqusVjic6tHZ",
        "colab": {
          "base_uri": "https://localhost:8080/",
          "height": 402
        },
        "outputId": "4c693e0f-5f6b-4dac-bb90-7d699567e562"
      },
      "source": [
        "import pandas as pd \n",
        "\n",
        "pd.read_csv(\"http://professor.ufabc.edu.br/~ronaldo.prati/bases/Pokemon.csv\")\n",
        "df = pd.read_csv(\"http://professor.ufabc.edu.br/~ronaldo.prati/bases/Pokemon.csv\")\n",
        "df "
      ],
      "execution_count": null,
      "outputs": [
        {
          "output_type": "execute_result",
          "data": {
            "text/html": [
              "<div>\n",
              "<style scoped>\n",
              "    .dataframe tbody tr th:only-of-type {\n",
              "        vertical-align: middle;\n",
              "    }\n",
              "\n",
              "    .dataframe tbody tr th {\n",
              "        vertical-align: top;\n",
              "    }\n",
              "\n",
              "    .dataframe thead th {\n",
              "        text-align: right;\n",
              "    }\n",
              "</style>\n",
              "<table border=\"1\" class=\"dataframe\">\n",
              "  <thead>\n",
              "    <tr style=\"text-align: right;\">\n",
              "      <th></th>\n",
              "      <th>#</th>\n",
              "      <th>Name</th>\n",
              "      <th>Type 1</th>\n",
              "      <th>Type 2</th>\n",
              "      <th>Total</th>\n",
              "      <th>HP</th>\n",
              "      <th>Attack</th>\n",
              "      <th>Defense</th>\n",
              "      <th>Sp. Atk</th>\n",
              "      <th>Sp. Def</th>\n",
              "      <th>Speed</th>\n",
              "      <th>Generation</th>\n",
              "      <th>Legendary</th>\n",
              "    </tr>\n",
              "  </thead>\n",
              "  <tbody>\n",
              "    <tr>\n",
              "      <th>0</th>\n",
              "      <td>1</td>\n",
              "      <td>Bulbasaur</td>\n",
              "      <td>Grass</td>\n",
              "      <td>Poison</td>\n",
              "      <td>318</td>\n",
              "      <td>45</td>\n",
              "      <td>49</td>\n",
              "      <td>49</td>\n",
              "      <td>65</td>\n",
              "      <td>65</td>\n",
              "      <td>45</td>\n",
              "      <td>1</td>\n",
              "      <td>False</td>\n",
              "    </tr>\n",
              "    <tr>\n",
              "      <th>1</th>\n",
              "      <td>2</td>\n",
              "      <td>Ivysaur</td>\n",
              "      <td>Grass</td>\n",
              "      <td>Poison</td>\n",
              "      <td>405</td>\n",
              "      <td>60</td>\n",
              "      <td>62</td>\n",
              "      <td>63</td>\n",
              "      <td>80</td>\n",
              "      <td>80</td>\n",
              "      <td>60</td>\n",
              "      <td>1</td>\n",
              "      <td>False</td>\n",
              "    </tr>\n",
              "    <tr>\n",
              "      <th>2</th>\n",
              "      <td>3</td>\n",
              "      <td>Venusaur</td>\n",
              "      <td>Grass</td>\n",
              "      <td>Poison</td>\n",
              "      <td>525</td>\n",
              "      <td>80</td>\n",
              "      <td>82</td>\n",
              "      <td>83</td>\n",
              "      <td>100</td>\n",
              "      <td>100</td>\n",
              "      <td>80</td>\n",
              "      <td>1</td>\n",
              "      <td>False</td>\n",
              "    </tr>\n",
              "    <tr>\n",
              "      <th>3</th>\n",
              "      <td>3</td>\n",
              "      <td>VenusaurMega Venusaur</td>\n",
              "      <td>Grass</td>\n",
              "      <td>Poison</td>\n",
              "      <td>625</td>\n",
              "      <td>80</td>\n",
              "      <td>100</td>\n",
              "      <td>123</td>\n",
              "      <td>122</td>\n",
              "      <td>120</td>\n",
              "      <td>80</td>\n",
              "      <td>1</td>\n",
              "      <td>False</td>\n",
              "    </tr>\n",
              "    <tr>\n",
              "      <th>4</th>\n",
              "      <td>4</td>\n",
              "      <td>Charmander</td>\n",
              "      <td>Fire</td>\n",
              "      <td>NaN</td>\n",
              "      <td>309</td>\n",
              "      <td>39</td>\n",
              "      <td>52</td>\n",
              "      <td>43</td>\n",
              "      <td>60</td>\n",
              "      <td>50</td>\n",
              "      <td>65</td>\n",
              "      <td>1</td>\n",
              "      <td>False</td>\n",
              "    </tr>\n",
              "    <tr>\n",
              "      <th>...</th>\n",
              "      <td>...</td>\n",
              "      <td>...</td>\n",
              "      <td>...</td>\n",
              "      <td>...</td>\n",
              "      <td>...</td>\n",
              "      <td>...</td>\n",
              "      <td>...</td>\n",
              "      <td>...</td>\n",
              "      <td>...</td>\n",
              "      <td>...</td>\n",
              "      <td>...</td>\n",
              "      <td>...</td>\n",
              "      <td>...</td>\n",
              "    </tr>\n",
              "    <tr>\n",
              "      <th>795</th>\n",
              "      <td>719</td>\n",
              "      <td>Diancie</td>\n",
              "      <td>Rock</td>\n",
              "      <td>Fairy</td>\n",
              "      <td>600</td>\n",
              "      <td>50</td>\n",
              "      <td>100</td>\n",
              "      <td>150</td>\n",
              "      <td>100</td>\n",
              "      <td>150</td>\n",
              "      <td>50</td>\n",
              "      <td>6</td>\n",
              "      <td>True</td>\n",
              "    </tr>\n",
              "    <tr>\n",
              "      <th>796</th>\n",
              "      <td>719</td>\n",
              "      <td>DiancieMega Diancie</td>\n",
              "      <td>Rock</td>\n",
              "      <td>Fairy</td>\n",
              "      <td>700</td>\n",
              "      <td>50</td>\n",
              "      <td>160</td>\n",
              "      <td>110</td>\n",
              "      <td>160</td>\n",
              "      <td>110</td>\n",
              "      <td>110</td>\n",
              "      <td>6</td>\n",
              "      <td>True</td>\n",
              "    </tr>\n",
              "    <tr>\n",
              "      <th>797</th>\n",
              "      <td>720</td>\n",
              "      <td>HoopaHoopa Confined</td>\n",
              "      <td>Psychic</td>\n",
              "      <td>Ghost</td>\n",
              "      <td>600</td>\n",
              "      <td>80</td>\n",
              "      <td>110</td>\n",
              "      <td>60</td>\n",
              "      <td>150</td>\n",
              "      <td>130</td>\n",
              "      <td>70</td>\n",
              "      <td>6</td>\n",
              "      <td>True</td>\n",
              "    </tr>\n",
              "    <tr>\n",
              "      <th>798</th>\n",
              "      <td>720</td>\n",
              "      <td>HoopaHoopa Unbound</td>\n",
              "      <td>Psychic</td>\n",
              "      <td>Dark</td>\n",
              "      <td>680</td>\n",
              "      <td>80</td>\n",
              "      <td>160</td>\n",
              "      <td>60</td>\n",
              "      <td>170</td>\n",
              "      <td>130</td>\n",
              "      <td>80</td>\n",
              "      <td>6</td>\n",
              "      <td>True</td>\n",
              "    </tr>\n",
              "    <tr>\n",
              "      <th>799</th>\n",
              "      <td>721</td>\n",
              "      <td>Volcanion</td>\n",
              "      <td>Fire</td>\n",
              "      <td>Water</td>\n",
              "      <td>600</td>\n",
              "      <td>80</td>\n",
              "      <td>110</td>\n",
              "      <td>120</td>\n",
              "      <td>130</td>\n",
              "      <td>90</td>\n",
              "      <td>70</td>\n",
              "      <td>6</td>\n",
              "      <td>True</td>\n",
              "    </tr>\n",
              "  </tbody>\n",
              "</table>\n",
              "<p>800 rows × 13 columns</p>\n",
              "</div>"
            ],
            "text/plain": [
              "       #                   Name   Type 1  ... Speed  Generation  Legendary\n",
              "0      1              Bulbasaur    Grass  ...    45           1      False\n",
              "1      2                Ivysaur    Grass  ...    60           1      False\n",
              "2      3               Venusaur    Grass  ...    80           1      False\n",
              "3      3  VenusaurMega Venusaur    Grass  ...    80           1      False\n",
              "4      4             Charmander     Fire  ...    65           1      False\n",
              "..   ...                    ...      ...  ...   ...         ...        ...\n",
              "795  719                Diancie     Rock  ...    50           6       True\n",
              "796  719    DiancieMega Diancie     Rock  ...   110           6       True\n",
              "797  720    HoopaHoopa Confined  Psychic  ...    70           6       True\n",
              "798  720     HoopaHoopa Unbound  Psychic  ...    80           6       True\n",
              "799  721              Volcanion     Fire  ...    70           6       True\n",
              "\n",
              "[800 rows x 13 columns]"
            ]
          },
          "metadata": {
            "tags": []
          },
          "execution_count": 2
        }
      ]
    },
    {
      "cell_type": "markdown",
      "metadata": {
        "id": "X0wlcFNhBSh4"
      },
      "source": [
        "Aqui, fazemos um cálculo básico de ataque médio dos pokemon´s . Gerando assim um valores comparativo das características dos tipos de pokemon´s\n",
        "\n"
      ]
    },
    {
      "cell_type": "code",
      "metadata": {
        "id": "ymzEPdXyDDsd",
        "colab": {
          "base_uri": "https://localhost:8080/"
        },
        "outputId": "5500cb2f-bec2-4a0a-8c7e-1b6ea2c8682c"
      },
      "source": [
        "p=df.tail(150)\n",
        "z= p[(p[\"Type 1\"] == \"Fire\")]\n",
        "att= z[\"Attack\"].mean()\n",
        "att"
      ],
      "execution_count": null,
      "outputs": [
        {
          "output_type": "execute_result",
          "data": {
            "text/plain": [
              "72.44444444444444"
            ]
          },
          "metadata": {
            "tags": []
          },
          "execution_count": 14
        }
      ]
    },
    {
      "cell_type": "code",
      "metadata": {
        "id": "3S9BgoxkLTrM",
        "colab": {
          "base_uri": "https://localhost:8080/"
        },
        "outputId": "be5f09c6-8fdf-4a13-b455-ea6ad3bae787"
      },
      "source": [
        "import numpy as np \n",
        "import matplotlib.pyplot as plt \n",
        " \n",
        "p=df.tail(150)\n",
        "w = p[(p['Type 1'] == 'Water')]\n",
        "att= w[\"Attack\"].mean()\n",
        "att"
      ],
      "execution_count": null,
      "outputs": [
        {
          "output_type": "execute_result",
          "data": {
            "text/plain": [
              "65.9"
            ]
          },
          "metadata": {
            "tags": []
          },
          "execution_count": 15
        }
      ]
    },
    {
      "cell_type": "code",
      "metadata": {
        "id": "VaPl1vJzyB7d",
        "colab": {
          "base_uri": "https://localhost:8080/"
        },
        "outputId": "476fffec-623e-4e0c-ed4f-c142850f252c"
      },
      "source": [
        "p=df.tail(150)\n",
        "w = p[(p['Type 1'] == 'Dark')]\n",
        "att= w[\"Attack\"].mean()\n",
        "att"
      ],
      "execution_count": null,
      "outputs": [
        {
          "output_type": "execute_result",
          "data": {
            "text/plain": [
              "86.2"
            ]
          },
          "metadata": {
            "tags": []
          },
          "execution_count": 16
        }
      ]
    },
    {
      "cell_type": "code",
      "metadata": {
        "id": "MDknjeQqyGA0",
        "colab": {
          "base_uri": "https://localhost:8080/"
        },
        "outputId": "bc7d0b2f-7b3c-4941-e607-58318e9d5cf1"
      },
      "source": [
        "p=df.tail(150)\n",
        "w = p[(p['Type 1'] == 'Grass')]\n",
        "att= w[\"Attack\"].mean()\n",
        "att"
      ],
      "execution_count": null,
      "outputs": [
        {
          "output_type": "execute_result",
          "data": {
            "text/plain": [
              "78.5"
            ]
          },
          "metadata": {
            "tags": []
          },
          "execution_count": 17
        }
      ]
    },
    {
      "cell_type": "code",
      "metadata": {
        "id": "cWsEvglWtVwz",
        "colab": {
          "base_uri": "https://localhost:8080/"
        },
        "outputId": "0f8a89b1-4a09-49e5-97b5-c83670402a6a"
      },
      "source": [
        "p=df.tail(150)\n",
        "w = p[(p['Type 1'] == 'Ghost')]\n",
        "att= w[\"Attack\"].mean()\n",
        "att"
      ],
      "execution_count": null,
      "outputs": [
        {
          "output_type": "execute_result",
          "data": {
            "text/plain": [
              "72.23076923076923"
            ]
          },
          "metadata": {
            "tags": []
          },
          "execution_count": 18
        }
      ]
    },
    {
      "cell_type": "code",
      "metadata": {
        "id": "7lcljNP3yLBU",
        "colab": {
          "base_uri": "https://localhost:8080/"
        },
        "outputId": "f34daceb-1ff3-4467-be7a-7c17cb973072"
      },
      "source": [
        "p=df.tail(150)\n",
        "w = p[(p['Type 1'] == 'Water')]\n",
        "hp= w[\"HP\"].mean()\n",
        "hp"
      ],
      "execution_count": null,
      "outputs": [
        {
          "output_type": "execute_result",
          "data": {
            "text/plain": [
              "79.0"
            ]
          },
          "metadata": {
            "tags": []
          },
          "execution_count": 19
        }
      ]
    },
    {
      "cell_type": "markdown",
      "metadata": {
        "id": "uNrO2XCjY-dd"
      },
      "source": [
        ""
      ]
    },
    {
      "cell_type": "markdown",
      "metadata": {
        "id": "r5ozCA6cY-kq"
      },
      "source": [
        "Aqui repetimos o processo para calcular o HP \n"
      ]
    },
    {
      "cell_type": "code",
      "metadata": {
        "id": "oKubTHZsyQCr",
        "colab": {
          "base_uri": "https://localhost:8080/"
        },
        "outputId": "94f2de86-3d54-4362-e1fe-99e45bcf9097"
      },
      "source": [
        "p=df.tail(150)\n",
        "w = p[(p['Type 1'] == 'Fire')]\n",
        "hp= w[\"HP\"].mean()\n",
        "hp"
      ],
      "execution_count": null,
      "outputs": [
        {
          "output_type": "execute_result",
          "data": {
            "text/plain": [
              "69.66666666666667"
            ]
          },
          "metadata": {
            "tags": []
          },
          "execution_count": 20
        }
      ]
    },
    {
      "cell_type": "code",
      "metadata": {
        "id": "TGFK4FTAyblR",
        "colab": {
          "base_uri": "https://localhost:8080/"
        },
        "outputId": "69e78e27-020b-4cc1-ee79-ecb74a0a3701"
      },
      "source": [
        "p=df.tail(150)\n",
        "w = p[(p['Type 1'] == 'Ghost')]\n",
        "hp= w[\"HP\"].mean()\n",
        "hp"
      ],
      "execution_count": null,
      "outputs": [
        {
          "output_type": "execute_result",
          "data": {
            "text/plain": [
              "60.30769230769231"
            ]
          },
          "metadata": {
            "tags": []
          },
          "execution_count": 21
        }
      ]
    },
    {
      "cell_type": "code",
      "metadata": {
        "id": "Xwp3fOAXyeSJ",
        "colab": {
          "base_uri": "https://localhost:8080/"
        },
        "outputId": "917bc598-a127-41d8-a6de-7bc50c9ca950"
      },
      "source": [
        "p=df.tail(150)\n",
        "w = p[(p['Type 1'] == 'Dark')]\n",
        "hp= w[\"HP\"].mean()\n",
        "hp"
      ],
      "execution_count": null,
      "outputs": [
        {
          "output_type": "execute_result",
          "data": {
            "text/plain": [
              "77.1"
            ]
          },
          "metadata": {
            "tags": []
          },
          "execution_count": 22
        }
      ]
    },
    {
      "cell_type": "code",
      "metadata": {
        "id": "oaQFzq3Xygzy",
        "colab": {
          "base_uri": "https://localhost:8080/"
        },
        "outputId": "90881bc5-ef8c-4777-ac4a-d7a29d90529e"
      },
      "source": [
        "p=df.tail(150)\n",
        "G = p[(p['Type 1'] == 'Grass')]\n",
        "hp= G[\"HP\"].mean()\n",
        "hp"
      ],
      "execution_count": null,
      "outputs": [
        {
          "output_type": "execute_result",
          "data": {
            "text/plain": [
              "78.6"
            ]
          },
          "metadata": {
            "tags": []
          },
          "execution_count": 23
        }
      ]
    },
    {
      "cell_type": "markdown",
      "metadata": {
        "id": "pMX3i_GuZENy"
      },
      "source": [
        "Aqui, calculamos as medias da velocidade que servirá para gerar os gráficos de velocidade"
      ]
    },
    {
      "cell_type": "code",
      "metadata": {
        "id": "enw3nBwfykMR",
        "colab": {
          "base_uri": "https://localhost:8080/"
        },
        "outputId": "331e78cf-94d5-49d2-9684-40902d1c719c"
      },
      "source": [
        "p=df.tail(150)\n",
        "w = p[(p['Type 1'] == 'Water')]\n",
        "sp= w[\"Speed\"].mean()\n",
        "sp"
      ],
      "execution_count": null,
      "outputs": [
        {
          "output_type": "execute_result",
          "data": {
            "text/plain": [
              "77.4"
            ]
          },
          "metadata": {
            "tags": []
          },
          "execution_count": 24
        }
      ]
    },
    {
      "cell_type": "code",
      "metadata": {
        "id": "CY2Fwjg0yvG7",
        "colab": {
          "base_uri": "https://localhost:8080/"
        },
        "outputId": "fb635d85-dc3b-4ee5-ea8a-b4669d129b87"
      },
      "source": [
        "p=df.tail(150)\n",
        "w = p[(p['Type 1'] == 'Fire')]\n",
        "sp= w[\"Speed\"].mean()\n",
        "sp"
      ],
      "execution_count": null,
      "outputs": [
        {
          "output_type": "execute_result",
          "data": {
            "text/plain": [
              "84.44444444444444"
            ]
          },
          "metadata": {
            "tags": []
          },
          "execution_count": 25
        }
      ]
    },
    {
      "cell_type": "code",
      "metadata": {
        "id": "ctVEJKKryyLc",
        "colab": {
          "base_uri": "https://localhost:8080/"
        },
        "outputId": "ea80be4e-8e15-461e-dfe5-c6019108a35c"
      },
      "source": [
        "p=df.tail(150)\n",
        "w = p[(p['Type 1'] == 'Ghost')]\n",
        "sp= w[\"Speed\"].mean()\n",
        "sp"
      ],
      "execution_count": null,
      "outputs": [
        {
          "output_type": "execute_result",
          "data": {
            "text/plain": [
              "57.61538461538461"
            ]
          },
          "metadata": {
            "tags": []
          },
          "execution_count": 26
        }
      ]
    },
    {
      "cell_type": "code",
      "metadata": {
        "id": "4SKC1Ylxy0-s",
        "colab": {
          "base_uri": "https://localhost:8080/"
        },
        "outputId": "85c90e46-4766-4714-f44b-f61e05953c74"
      },
      "source": [
        "p=df.tail(150)\n",
        "w = p[(p['Type 1'] == 'Dark')]\n",
        "sp= w[\"Speed\"].mean()\n",
        "sp"
      ],
      "execution_count": null,
      "outputs": [
        {
          "output_type": "execute_result",
          "data": {
            "text/plain": [
              "68.1"
            ]
          },
          "metadata": {
            "tags": []
          },
          "execution_count": 27
        }
      ]
    },
    {
      "cell_type": "code",
      "metadata": {
        "id": "kMEBlPVMy3qE",
        "colab": {
          "base_uri": "https://localhost:8080/"
        },
        "outputId": "2f8fff4e-ace4-4ff3-e640-43e8bc2a04fd"
      },
      "source": [
        "p=df.tail(150)\n",
        "w = p[(p['Type 1'] == 'Grass')]\n",
        "sp= w[\"Speed\"].mean()\n",
        "sp"
      ],
      "execution_count": null,
      "outputs": [
        {
          "output_type": "execute_result",
          "data": {
            "text/plain": [
              "46.2"
            ]
          },
          "metadata": {
            "tags": []
          },
          "execution_count": 28
        }
      ]
    },
    {
      "cell_type": "markdown",
      "metadata": {
        "id": "lGUVs_3OZQag"
      },
      "source": [
        "Como podemos observar, usamos os valores médios de attack, HP e speed para gerarmos os gráficos que facilitam a visualização e comparação dos valores. Como o gráfico de ataque a seguir:"
      ]
    },
    {
      "cell_type": "code",
      "metadata": {
        "id": "va7lsIIA6P80",
        "colab": {
          "base_uri": "https://localhost:8080/",
          "height": 228
        },
        "outputId": "d7bf5f62-bc29-4dd1-d70e-852682b9042d"
      },
      "source": [
        "p=df.tail(150)\n",
        "grass = p[(p['Type 1'] == 'Grass')]\n",
        "fire = p[(p['Type 1'] == 'Fire')]\n",
        "ghost = p[(p['Type 1'] == 'Ghost')]\n",
        "dark = p[(p['Type 1'] == 'Dark')]\n",
        "psy = p[(p['Type 1'] == 'Psychic')]\n",
        "names = ['Fire', 'Grass', 'Ghost', 'Dark', 'Psychic']\n",
        "values = [fire['Attack'].mean(), grass['Attack'].mean(), ghost['Attack'].mean(), dark['Attack'].mean(), psy['Attack'].mean()]\n",
        "plt.figure(figsize=(9, 3))\n",
        "plt.plot(names, values)"
      ],
      "execution_count": null,
      "outputs": [
        {
          "output_type": "execute_result",
          "data": {
            "text/plain": [
              "[<matplotlib.lines.Line2D at 0x7f8144424e48>]"
            ]
          },
          "metadata": {
            "tags": []
          },
          "execution_count": 29
        },
        {
          "output_type": "display_data",
          "data": {
            "image/png": "[encoded data removed]",
            "text/plain": [
              "<Figure size 648x216 with 1 Axes>"
            ]
          },
          "metadata": {
            "tags": [],
            "needs_background": "light"
          }
        }
      ]
    },
    {
      "cell_type": "markdown",
      "metadata": {
        "id": "l8wZPX8cZOUp"
      },
      "source": [
        "Aqui o gráfico de HP"
      ]
    },
    {
      "cell_type": "code",
      "metadata": {
        "id": "xEo3cA8GToAS",
        "colab": {
          "base_uri": "https://localhost:8080/",
          "height": 228
        },
        "outputId": "4ff14502-fba5-4a21-b1f0-2f0f9c31fc10"
      },
      "source": [
        "p=df.tail(150)\n",
        "grass = p[(p['Type 1'] == 'Grass')]\n",
        "fire = p[(p['Type 1'] == 'Fire')]\n",
        "ghost = p[(p['Type 1'] == 'Ghost')]\n",
        "dark = p[(p['Type 1'] == 'Dark')]\n",
        "psy = p[(p['Type 1'] == 'Psychic')]\n",
        "\n",
        "names = ['Fire', 'Grass', 'Ghost', 'Dark', 'Psychic']\n",
        "values = [fire['HP'].mean(), grass['HP'].mean(), ghost['HP'].mean(), dark['HP'].mean(), psy['HP'].mean()]\n",
        "\n",
        "plt.figure(figsize=(9, 3))\n",
        "plt.plot(names, values)"
      ],
      "execution_count": null,
      "outputs": [
        {
          "output_type": "execute_result",
          "data": {
            "text/plain": [
              "[<matplotlib.lines.Line2D at 0x7f8144390198>]"
            ]
          },
          "metadata": {
            "tags": []
          },
          "execution_count": 30
        },
        {
          "output_type": "display_data",
          "data": {
            "image/png": "[encoded data removed]",
            "text/plain": [
              "<Figure size 648x216 with 1 Axes>"
            ]
          },
          "metadata": {
            "tags": [],
            "needs_background": "light"
          }
        }
      ]
    },
    {
      "cell_type": "markdown",
      "metadata": {
        "id": "Db4yxpCQZwEo"
      },
      "source": [
        "O gráfico de Speed"
      ]
    },
    {
      "cell_type": "code",
      "metadata": {
        "id": "kBWAy7LnVO_k",
        "colab": {
          "base_uri": "https://localhost:8080/",
          "height": 228
        },
        "outputId": "04c7a31a-347d-4045-800f-3fd55b985caa"
      },
      "source": [
        "p=df.tail(150)\n",
        "grass = p[(p['Type 1'] == 'Grass')]\n",
        "fire = p[(p['Type 1'] == 'Fire')]\n",
        "ghost = p[(p['Type 1'] == 'Ghost')]\n",
        "dark = p[(p['Type 1'] == 'Dark')]\n",
        "psy = p[(p['Type 1'] == 'Psychic')]\n",
        "\n",
        "names = ['Fire', 'Grass', 'Ghost', 'Dark', 'Psychic']\n",
        "values = [fire['Speed'].mean(), grass['Speed'].mean(), ghost['Speed'].mean(), dark['Speed'].mean(), psy['Speed'].mean()]\n",
        "\n",
        "plt.figure(figsize=(9, 3))\n",
        "plt.plot(names, values)"
      ],
      "execution_count": null,
      "outputs": [
        {
          "output_type": "execute_result",
          "data": {
            "text/plain": [
              "[<matplotlib.lines.Line2D at 0x7f814435ab38>]"
            ]
          },
          "metadata": {
            "tags": []
          },
          "execution_count": 31
        },
        {
          "output_type": "display_data",
          "data": {
            "image/png": "[encoded data removed]",
            "text/plain": [
              "<Figure size 648x216 with 1 Axes>"
            ]
          },
          "metadata": {
            "tags": [],
            "needs_background": "light"
          }
        }
      ]
    },
    {
      "cell_type": "markdown",
      "metadata": {
        "id": "jkYE04cVZuWa"
      },
      "source": [
        "E por fim, o gráfico final, de demonstra a comparação e junção dos 3 gráficos anteriores, selecionando uma coluna em função de outra, claculando média de valores diferentes, gerando gráficos, e juntando todos os valores gerados em um só gráfico. "
      ]
    },
    {
      "cell_type": "code",
      "metadata": {
        "id": "znvkETGGWHCc",
        "colab": {
          "base_uri": "https://localhost:8080/",
          "height": 248
        },
        "outputId": "3f12d283-ee7d-4240-aece-c1b52229df0b"
      },
      "source": [
        "p=df.tail(150)\n",
        "grass = p[(p['Type 1'] == 'Grass')]\n",
        "fire = p[(p['Type 1'] == 'Fire')]\n",
        "ghost = p[(p['Type 1'] == 'Ghost')]\n",
        "dark = p[(p['Type 1'] == 'Dark')]\n",
        "psy = p[(p['Type 1'] == 'Psychic')]\n",
        "\n",
        "names = ['Fire', 'Grass', 'Ghost', 'Dark', 'Psychic']\n",
        "values = [fire['Speed'].mean(), grass['Speed'].mean(), ghost['Speed'].mean(), dark['Speed'].mean(), psy['Speed'].mean()]\n",
        "\n",
        "namesatt = ['Fire', 'Grass', 'Ghost', 'Dark', 'Psychic']\n",
        "valuesatt = [fire['Attack'].mean(), grass['Attack'].mean(), ghost['Attack'].mean(), dark['Attack'].mean(), psy['Attack'].mean()]\n",
        "\n",
        "nameshp = ['Fire', 'Grass', 'Ghost', 'Dark', 'Psychic']\n",
        "valueshp = [fire['HP'].mean(), grass['HP'].mean(), ghost['HP'].mean(), dark['HP'].mean(), psy['HP'].mean()]\n",
        "\n",
        "plt.figure(figsize=(9, 3))\n",
        "y=plt.plot(names, values)\n",
        "z=plt.plot(namesatt,valuesatt)\n",
        "x=plt.plot(nameshp, valueshp)\n",
        "\n",
        "print(x,y,z)"
      ],
      "execution_count": null,
      "outputs": [
        {
          "output_type": "stream",
          "text": [
            "[<matplotlib.lines.Line2D object at 0x7f8143f1abe0>] [<matplotlib.lines.Line2D object at 0x7f81442a9a58>] [<matplotlib.lines.Line2D object at 0x7f8143f64978>]\n"
          ],
          "name": "stdout"
        },
        {
          "output_type": "display_data",
          "data": {
            "image/png": "[encoded data removed]",
            "text/plain": [
              "<Figure size 648x216 with 1 Axes>"
            ]
          },
          "metadata": {
            "tags": [],
            "needs_background": "light"
          }
        }
      ]
    }
  ]
}