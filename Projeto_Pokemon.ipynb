{
  "nbformat": 4,
  "nbformat_minor": 0,
  "metadata": {
    "colab": {
      "name": "Projeto Pokemon.ipynb",
      "provenance": [],
      "collapsed_sections": [],
      "include_colab_link": true
    },
    "kernelspec": {
      "display_name": "Python 3",
      "name": "python3"
    }
  },
  "cells": [
    {
      "cell_type": "markdown",
      "metadata": {
        "id": "view-in-github",
        "colab_type": "text"
      },
      "source": [
        "<a href=\"https://colab.research.google.com/github/mflilian/PokemonUFABC/blob/main/Projeto_Pokemon.ipynb\" target=\"_parent\"><img src=\"https://colab.research.google.com/assets/colab-badge.svg\" alt=\"Open In Colab\"/></a>"
      ]
    },
    {
      "cell_type": "markdown",
      "metadata": {
        "id": "Cl6d1I5BRVsA"
      },
      "source": [
        "#Projeto Pokemón\n - Análise Estatística",
        "\n",
        "Objetivo: Analisar alguns atributos dos Pokémons fazendo uso de gráficos, dados estatísticos ou análise de correlações e, em seguida, criar um relatório de análise com base no que foi observado.\n",
        "\n"
      ]
    },
    {
      "cell_type": "markdown",
      "metadata": {
        "id": "bwFy9nirSLlJ"
      },
      "source": [
        "**Atenção**\n",
        "\n",
        "Para melhor organização da tabela, resolvemos reduzir o número de pokémons que foram mostrados: de 721 pokémons, foram seleciodos 20 . Como critério de escolha, colocamos a soma das características totais dos pokémons em ordem crescente e pegamos os 20 últimos pokémons da nova tabela."
      ]
    },
    {
      "cell_type": "code",
      "metadata": {
        "id": "yCREUm7bfc47",
        "colab": {
          "base_uri": "https://localhost:8080/",
          "height": 674
        },
        "outputId": "03e6d34d-f7be-48a2-9d4a-df4e525ce3f6"
      },
      "source": [
        "import pandas as pd\n",
        "import numpy as np\n",
        "from google.colab import drive\n",
        "import matplotlib.pyplot as plt\n",
        "%matplotlib inline\n",
        "\n",
        "pd.read_csv(\"/content/drive/My Drive/POKEmonio.csv\") \n",
        "df = pd.read_csv(\"/content/drive/My Drive/POKEmonio.csv\")\n",
        "\n",
        "df.tail(21)\n",
        "df = df.tail(21)\n",
        "df\n",
        "\n",
        "df = df.drop(columns='#')\n",
        "df"
      ],
      "execution_count": null,
      "outputs": [
        {
          "output_type": "execute_result",
          "data": {
            "text/html": [
              "<div>\n",
              "<style scoped>\n",
              "    .dataframe tbody tr th:only-of-type {\n",
              "        vertical-align: middle;\n",
              "    }\n",
              "\n",
              "    .dataframe tbody tr th {\n",
              "        vertical-align: top;\n",
              "    }\n",
              "\n",
              "    .dataframe thead th {\n",
              "        text-align: right;\n",
              "    }\n",
              "</style>\n",
              "<table border=\"1\" class=\"dataframe\">\n",
              "  <thead>\n",
              "    <tr style=\"text-align: right;\">\n",
              "      <th></th>\n",
              "      <th>Name</th>\n",
              "      <th>Type 1</th>\n",
              "      <th>Type 2</th>\n",
              "      <th>Total</th>\n",
              "      <th>HP</th>\n",
              "      <th>Attack</th>\n",
              "      <th>Defense</th>\n",
              "      <th>Sp. Atk</th>\n",
              "      <th>Sp. Def</th>\n",
              "      <th>Speed</th>\n",
              "      <th>Generation</th>\n",
              "      <th>Legendary</th>\n",
              "    </tr>\n",
              "  </thead>\n",
              "  <tbody>\n",
              "    <tr>\n",
              "      <th>779</th>\n",
              "      <td>Trevenant</td>\n",
              "      <td>Ghost</td>\n",
              "      <td>Grass</td>\n",
              "      <td>474</td>\n",
              "      <td>85</td>\n",
              "      <td>110</td>\n",
              "      <td>76</td>\n",
              "      <td>65</td>\n",
              "      <td>82</td>\n",
              "      <td>56</td>\n",
              "      <td>6</td>\n",
              "      <td>False</td>\n",
              "    </tr>\n",
              "    <tr>\n",
              "      <th>780</th>\n",
              "      <td>PumpkabooAverage Size</td>\n",
              "      <td>Ghost</td>\n",
              "      <td>Grass</td>\n",
              "      <td>335</td>\n",
              "      <td>49</td>\n",
              "      <td>66</td>\n",
              "      <td>70</td>\n",
              "      <td>44</td>\n",
              "      <td>55</td>\n",
              "      <td>51</td>\n",
              "      <td>6</td>\n",
              "      <td>False</td>\n",
              "    </tr>\n",
              "    <tr>\n",
              "      <th>781</th>\n",
              "      <td>PumpkabooSmall Size</td>\n",
              "      <td>Ghost</td>\n",
              "      <td>Grass</td>\n",
              "      <td>335</td>\n",
              "      <td>44</td>\n",
              "      <td>66</td>\n",
              "      <td>70</td>\n",
              "      <td>44</td>\n",
              "      <td>55</td>\n",
              "      <td>56</td>\n",
              "      <td>6</td>\n",
              "      <td>False</td>\n",
              "    </tr>\n",
              "    <tr>\n",
              "      <th>782</th>\n",
              "      <td>PumpkabooLarge Size</td>\n",
              "      <td>Ghost</td>\n",
              "      <td>Grass</td>\n",
              "      <td>335</td>\n",
              "      <td>54</td>\n",
              "      <td>66</td>\n",
              "      <td>70</td>\n",
              "      <td>44</td>\n",
              "      <td>55</td>\n",
              "      <td>46</td>\n",
              "      <td>6</td>\n",
              "      <td>False</td>\n",
              "    </tr>\n",
              "    <tr>\n",
              "      <th>783</th>\n",
              "      <td>PumpkabooSuper Size</td>\n",
              "      <td>Ghost</td>\n",
              "      <td>Grass</td>\n",
              "      <td>335</td>\n",
              "      <td>59</td>\n",
              "      <td>66</td>\n",
              "      <td>70</td>\n",
              "      <td>44</td>\n",
              "      <td>55</td>\n",
              "      <td>41</td>\n",
              "      <td>6</td>\n",
              "      <td>False</td>\n",
              "    </tr>\n",
              "    <tr>\n",
              "      <th>784</th>\n",
              "      <td>GourgeistAverage Size</td>\n",
              "      <td>Ghost</td>\n",
              "      <td>Grass</td>\n",
              "      <td>494</td>\n",
              "      <td>65</td>\n",
              "      <td>90</td>\n",
              "      <td>122</td>\n",
              "      <td>58</td>\n",
              "      <td>75</td>\n",
              "      <td>84</td>\n",
              "      <td>6</td>\n",
              "      <td>False</td>\n",
              "    </tr>\n",
              "    <tr>\n",
              "      <th>785</th>\n",
              "      <td>GourgeistSmall Size</td>\n",
              "      <td>Ghost</td>\n",
              "      <td>Grass</td>\n",
              "      <td>494</td>\n",
              "      <td>55</td>\n",
              "      <td>85</td>\n",
              "      <td>122</td>\n",
              "      <td>58</td>\n",
              "      <td>75</td>\n",
              "      <td>99</td>\n",
              "      <td>6</td>\n",
              "      <td>False</td>\n",
              "    </tr>\n",
              "    <tr>\n",
              "      <th>786</th>\n",
              "      <td>GourgeistLarge Size</td>\n",
              "      <td>Ghost</td>\n",
              "      <td>Grass</td>\n",
              "      <td>494</td>\n",
              "      <td>75</td>\n",
              "      <td>95</td>\n",
              "      <td>122</td>\n",
              "      <td>58</td>\n",
              "      <td>75</td>\n",
              "      <td>69</td>\n",
              "      <td>6</td>\n",
              "      <td>False</td>\n",
              "    </tr>\n",
              "    <tr>\n",
              "      <th>787</th>\n",
              "      <td>GourgeistSuper Size</td>\n",
              "      <td>Ghost</td>\n",
              "      <td>Grass</td>\n",
              "      <td>494</td>\n",
              "      <td>85</td>\n",
              "      <td>100</td>\n",
              "      <td>122</td>\n",
              "      <td>58</td>\n",
              "      <td>75</td>\n",
              "      <td>54</td>\n",
              "      <td>6</td>\n",
              "      <td>False</td>\n",
              "    </tr>\n",
              "    <tr>\n",
              "      <th>788</th>\n",
              "      <td>Bergmite</td>\n",
              "      <td>Ice</td>\n",
              "      <td>NaN</td>\n",
              "      <td>304</td>\n",
              "      <td>55</td>\n",
              "      <td>69</td>\n",
              "      <td>85</td>\n",
              "      <td>32</td>\n",
              "      <td>35</td>\n",
              "      <td>28</td>\n",
              "      <td>6</td>\n",
              "      <td>False</td>\n",
              "    </tr>\n",
              "    <tr>\n",
              "      <th>789</th>\n",
              "      <td>Avalugg</td>\n",
              "      <td>Ice</td>\n",
              "      <td>NaN</td>\n",
              "      <td>514</td>\n",
              "      <td>95</td>\n",
              "      <td>117</td>\n",
              "      <td>184</td>\n",
              "      <td>44</td>\n",
              "      <td>46</td>\n",
              "      <td>28</td>\n",
              "      <td>6</td>\n",
              "      <td>False</td>\n",
              "    </tr>\n",
              "    <tr>\n",
              "      <th>790</th>\n",
              "      <td>Noibat</td>\n",
              "      <td>Flying</td>\n",
              "      <td>Dragon</td>\n",
              "      <td>245</td>\n",
              "      <td>40</td>\n",
              "      <td>30</td>\n",
              "      <td>35</td>\n",
              "      <td>45</td>\n",
              "      <td>40</td>\n",
              "      <td>55</td>\n",
              "      <td>6</td>\n",
              "      <td>False</td>\n",
              "    </tr>\n",
              "    <tr>\n",
              "      <th>791</th>\n",
              "      <td>Noivern</td>\n",
              "      <td>Flying</td>\n",
              "      <td>Dragon</td>\n",
              "      <td>535</td>\n",
              "      <td>85</td>\n",
              "      <td>70</td>\n",
              "      <td>80</td>\n",
              "      <td>97</td>\n",
              "      <td>80</td>\n",
              "      <td>123</td>\n",
              "      <td>6</td>\n",
              "      <td>False</td>\n",
              "    </tr>\n",
              "    <tr>\n",
              "      <th>792</th>\n",
              "      <td>Xerneas</td>\n",
              "      <td>Fairy</td>\n",
              "      <td>NaN</td>\n",
              "      <td>680</td>\n",
              "      <td>126</td>\n",
              "      <td>131</td>\n",
              "      <td>95</td>\n",
              "      <td>131</td>\n",
              "      <td>98</td>\n",
              "      <td>99</td>\n",
              "      <td>6</td>\n",
              "      <td>True</td>\n",
              "    </tr>\n",
              "    <tr>\n",
              "      <th>793</th>\n",
              "      <td>Yveltal</td>\n",
              "      <td>Dark</td>\n",
              "      <td>Flying</td>\n",
              "      <td>680</td>\n",
              "      <td>126</td>\n",
              "      <td>131</td>\n",
              "      <td>95</td>\n",
              "      <td>131</td>\n",
              "      <td>98</td>\n",
              "      <td>99</td>\n",
              "      <td>6</td>\n",
              "      <td>True</td>\n",
              "    </tr>\n",
              "    <tr>\n",
              "      <th>794</th>\n",
              "      <td>Zygarde50% Forme</td>\n",
              "      <td>Dragon</td>\n",
              "      <td>Ground</td>\n",
              "      <td>600</td>\n",
              "      <td>108</td>\n",
              "      <td>100</td>\n",
              "      <td>121</td>\n",
              "      <td>81</td>\n",
              "      <td>95</td>\n",
              "      <td>95</td>\n",
              "      <td>6</td>\n",
              "      <td>True</td>\n",
              "    </tr>\n",
              "    <tr>\n",
              "      <th>795</th>\n",
              "      <td>Diancie</td>\n",
              "      <td>Rock</td>\n",
              "      <td>Fairy</td>\n",
              "      <td>600</td>\n",
              "      <td>50</td>\n",
              "      <td>100</td>\n",
              "      <td>150</td>\n",
              "      <td>100</td>\n",
              "      <td>150</td>\n",
              "      <td>50</td>\n",
              "      <td>6</td>\n",
              "      <td>True</td>\n",
              "    </tr>\n",
              "    <tr>\n",
              "      <th>796</th>\n",
              "      <td>DiancieMega Diancie</td>\n",
              "      <td>Rock</td>\n",
              "      <td>Fairy</td>\n",
              "      <td>700</td>\n",
              "      <td>50</td>\n",
              "      <td>160</td>\n",
              "      <td>110</td>\n",
              "      <td>160</td>\n",
              "      <td>110</td>\n",
              "      <td>110</td>\n",
              "      <td>6</td>\n",
              "      <td>True</td>\n",
              "    </tr>\n",
              "    <tr>\n",
              "      <th>797</th>\n",
              "      <td>HoopaHoopa Confined</td>\n",
              "      <td>Psychic</td>\n",
              "      <td>Ghost</td>\n",
              "      <td>600</td>\n",
              "      <td>80</td>\n",
              "      <td>110</td>\n",
              "      <td>60</td>\n",
              "      <td>150</td>\n",
              "      <td>130</td>\n",
              "      <td>70</td>\n",
              "      <td>6</td>\n",
              "      <td>True</td>\n",
              "    </tr>\n",
              "    <tr>\n",
              "      <th>798</th>\n",
              "      <td>HoopaHoopa Unbound</td>\n",
              "      <td>Psychic</td>\n",
              "      <td>Dark</td>\n",
              "      <td>680</td>\n",
              "      <td>80</td>\n",
              "      <td>160</td>\n",
              "      <td>60</td>\n",
              "      <td>170</td>\n",
              "      <td>130</td>\n",
              "      <td>80</td>\n",
              "      <td>6</td>\n",
              "      <td>True</td>\n",
              "    </tr>\n",
              "    <tr>\n",
              "      <th>799</th>\n",
              "      <td>Volcanion</td>\n",
              "      <td>Fire</td>\n",
              "      <td>Water</td>\n",
              "      <td>600</td>\n",
              "      <td>80</td>\n",
              "      <td>110</td>\n",
              "      <td>120</td>\n",
              "      <td>130</td>\n",
              "      <td>90</td>\n",
              "      <td>70</td>\n",
              "      <td>6</td>\n",
              "      <td>True</td>\n",
              "    </tr>\n",
              "  </tbody>\n",
              "</table>\n",
              "</div>"
            ],
            "text/plain": [
              "                      Name   Type 1  Type 2  ...  Speed  Generation  Legendary\n",
              "779              Trevenant    Ghost   Grass  ...     56           6      False\n",
              "780  PumpkabooAverage Size    Ghost   Grass  ...     51           6      False\n",
              "781    PumpkabooSmall Size    Ghost   Grass  ...     56           6      False\n",
              "782    PumpkabooLarge Size    Ghost   Grass  ...     46           6      False\n",
              "783    PumpkabooSuper Size    Ghost   Grass  ...     41           6      False\n",
              "784  GourgeistAverage Size    Ghost   Grass  ...     84           6      False\n",
              "785    GourgeistSmall Size    Ghost   Grass  ...     99           6      False\n",
              "786    GourgeistLarge Size    Ghost   Grass  ...     69           6      False\n",
              "787    GourgeistSuper Size    Ghost   Grass  ...     54           6      False\n",
              "788               Bergmite      Ice     NaN  ...     28           6      False\n",
              "789                Avalugg      Ice     NaN  ...     28           6      False\n",
              "790                 Noibat   Flying  Dragon  ...     55           6      False\n",
              "791                Noivern   Flying  Dragon  ...    123           6      False\n",
              "792                Xerneas    Fairy     NaN  ...     99           6       True\n",
              "793                Yveltal     Dark  Flying  ...     99           6       True\n",
              "794       Zygarde50% Forme   Dragon  Ground  ...     95           6       True\n",
              "795                Diancie     Rock   Fairy  ...     50           6       True\n",
              "796    DiancieMega Diancie     Rock   Fairy  ...    110           6       True\n",
              "797    HoopaHoopa Confined  Psychic   Ghost  ...     70           6       True\n",
              "798     HoopaHoopa Unbound  Psychic    Dark  ...     80           6       True\n",
              "799              Volcanion     Fire   Water  ...     70           6       True\n",
              "\n",
              "[21 rows x 12 columns]"
            ]
          },
          "metadata": {
            "tags": []
          },
          "execution_count": 3
        }
      ]
    },
    {
      "cell_type": "markdown",
      "metadata": {
        "id": "Gy_jZ-aVS_HI"
      },
      "source": [
        " Efetuamos o cálculo da  `variância` de todas as colunas."
      ]
    },
    {
      "cell_type": "code",
      "metadata": {
        "id": "KFAMWzuj6Q_D",
        "colab": {
          "base_uri": "https://localhost:8080/"
        },
        "outputId": "d4c33ab8-3f80-4647-fba4-94af875c397d"
      },
      "source": [
        "df1 = df.drop(columns='Total')\n",
        "vari = df1.var()\n",
        "vari"
      ],
      "execution_count": null,
      "outputs": [
        {
          "output_type": "execute_result",
          "data": {
            "text/plain": [
              "HP             636.747619\n",
              "Attack        1061.290476\n",
              "Defense       1226.590476\n",
              "Sp. Atk       1988.347619\n",
              "Sp. Def        956.528571\n",
              "Speed          721.533333\n",
              "Generation       0.000000\n",
              "Legendary        0.247619\n",
              "dtype: float64"
            ]
          },
          "metadata": {
            "tags": []
          },
          "execution_count": 4
        }
      ]
    },
    {
      "cell_type": "markdown",
      "metadata": {
        "id": "Mw8HwFrZTeoG"
      },
      "source": [
        ".Cálculo do Desvio Padrão com o comando `std`."
      ]
    },
    {
      "cell_type": "code",
      "metadata": {
        "id": "XgIE1suU6v9E",
        "colab": {
          "base_uri": "https://localhost:8080/"
        },
        "outputId": "2449e220-d280-4779-c988-c19780a847f1"
      },
      "source": [
        "df1 = df.drop(columns='Total')\n",
        "df1.std()"
      ],
      "execution_count": null,
      "outputs": [
        {
          "output_type": "execute_result",
          "data": {
            "text/plain": [
              "HP            25.233859\n",
              "Attack        32.577453\n",
              "Defense       35.022714\n",
              "Sp. Atk       44.590892\n",
              "Sp. Def       30.927796\n",
              "Speed         26.861373\n",
              "Generation     0.000000\n",
              "Legendary      0.497613\n",
              "dtype: float64"
            ]
          },
          "metadata": {
            "tags": []
          },
          "execution_count": 5
        }
      ]
    },
    {
      "cell_type": "markdown",
      "metadata": {
        "id": "gJJLgs9eTpvs"
      },
      "source": [
        ".Usamos o comando ``describe``para descrever diferentes formas de medidas de tendência, média e dispersão concentradas"
      ]
    },
    {
      "cell_type": "code",
      "metadata": {
        "id": "PkxtsTiE_UYZ",
        "colab": {
          "base_uri": "https://localhost:8080/",
          "height": 286
        },
        "outputId": "bffc681a-99d3-4505-b910-8acdf9f5f2db"
      },
      "source": [
        "df1 = df.drop(columns='Total')\n",
        "df1.describe()"
      ],
      "execution_count": null,
      "outputs": [
        {
          "output_type": "execute_result",
          "data": {
            "text/html": [
              "<div>\n",
              "<style scoped>\n",
              "    .dataframe tbody tr th:only-of-type {\n",
              "        vertical-align: middle;\n",
              "    }\n",
              "\n",
              "    .dataframe tbody tr th {\n",
              "        vertical-align: top;\n",
              "    }\n",
              "\n",
              "    .dataframe thead th {\n",
              "        text-align: right;\n",
              "    }\n",
              "</style>\n",
              "<table border=\"1\" class=\"dataframe\">\n",
              "  <thead>\n",
              "    <tr style=\"text-align: right;\">\n",
              "      <th></th>\n",
              "      <th>HP</th>\n",
              "      <th>Attack</th>\n",
              "      <th>Defense</th>\n",
              "      <th>Sp. Atk</th>\n",
              "      <th>Sp. Def</th>\n",
              "      <th>Speed</th>\n",
              "      <th>Generation</th>\n",
              "    </tr>\n",
              "  </thead>\n",
              "  <tbody>\n",
              "    <tr>\n",
              "      <th>count</th>\n",
              "      <td>21.000000</td>\n",
              "      <td>21.000000</td>\n",
              "      <td>21.000000</td>\n",
              "      <td>21.000000</td>\n",
              "      <td>21.000000</td>\n",
              "      <td>21.000000</td>\n",
              "      <td>21.0</td>\n",
              "    </tr>\n",
              "    <tr>\n",
              "      <th>mean</th>\n",
              "      <td>73.619048</td>\n",
              "      <td>96.761905</td>\n",
              "      <td>97.095238</td>\n",
              "      <td>83.047619</td>\n",
              "      <td>81.142857</td>\n",
              "      <td>69.666667</td>\n",
              "      <td>6.0</td>\n",
              "    </tr>\n",
              "    <tr>\n",
              "      <th>std</th>\n",
              "      <td>25.233859</td>\n",
              "      <td>32.577453</td>\n",
              "      <td>35.022714</td>\n",
              "      <td>44.590892</td>\n",
              "      <td>30.927796</td>\n",
              "      <td>26.861373</td>\n",
              "      <td>0.0</td>\n",
              "    </tr>\n",
              "    <tr>\n",
              "      <th>min</th>\n",
              "      <td>40.000000</td>\n",
              "      <td>30.000000</td>\n",
              "      <td>35.000000</td>\n",
              "      <td>32.000000</td>\n",
              "      <td>35.000000</td>\n",
              "      <td>28.000000</td>\n",
              "      <td>6.0</td>\n",
              "    </tr>\n",
              "    <tr>\n",
              "      <th>25%</th>\n",
              "      <td>54.000000</td>\n",
              "      <td>69.000000</td>\n",
              "      <td>70.000000</td>\n",
              "      <td>44.000000</td>\n",
              "      <td>55.000000</td>\n",
              "      <td>51.000000</td>\n",
              "      <td>6.0</td>\n",
              "    </tr>\n",
              "    <tr>\n",
              "      <th>50%</th>\n",
              "      <td>75.000000</td>\n",
              "      <td>100.000000</td>\n",
              "      <td>95.000000</td>\n",
              "      <td>58.000000</td>\n",
              "      <td>75.000000</td>\n",
              "      <td>69.000000</td>\n",
              "      <td>6.0</td>\n",
              "    </tr>\n",
              "    <tr>\n",
              "      <th>75%</th>\n",
              "      <td>85.000000</td>\n",
              "      <td>110.000000</td>\n",
              "      <td>122.000000</td>\n",
              "      <td>130.000000</td>\n",
              "      <td>98.000000</td>\n",
              "      <td>95.000000</td>\n",
              "      <td>6.0</td>\n",
              "    </tr>\n",
              "    <tr>\n",
              "      <th>max</th>\n",
              "      <td>126.000000</td>\n",
              "      <td>160.000000</td>\n",
              "      <td>184.000000</td>\n",
              "      <td>170.000000</td>\n",
              "      <td>150.000000</td>\n",
              "      <td>123.000000</td>\n",
              "      <td>6.0</td>\n",
              "    </tr>\n",
              "  </tbody>\n",
              "</table>\n",
              "</div>"
            ],
            "text/plain": [
              "               HP      Attack     Defense  ...     Sp. Def       Speed  Generation\n",
              "count   21.000000   21.000000   21.000000  ...   21.000000   21.000000        21.0\n",
              "mean    73.619048   96.761905   97.095238  ...   81.142857   69.666667         6.0\n",
              "std     25.233859   32.577453   35.022714  ...   30.927796   26.861373         0.0\n",
              "min     40.000000   30.000000   35.000000  ...   35.000000   28.000000         6.0\n",
              "25%     54.000000   69.000000   70.000000  ...   55.000000   51.000000         6.0\n",
              "50%     75.000000  100.000000   95.000000  ...   75.000000   69.000000         6.0\n",
              "75%     85.000000  110.000000  122.000000  ...   98.000000   95.000000         6.0\n",
              "max    126.000000  160.000000  184.000000  ...  150.000000  123.000000         6.0\n",
              "\n",
              "[8 rows x 7 columns]"
            ]
          },
          "metadata": {
            "tags": []
          },
          "execution_count": 6
        }
      ]
    },
    {
      "cell_type": "markdown",
      "metadata": {
        "id": "TXWlUTEDT2DD"
      },
      "source": [
        "Inserimos um filtro com duas condições; HP > 80 e Speed > 50."
      ]
    },
    {
      "cell_type": "code",
      "metadata": {
        "id": "tXnQmU_UOWhQ",
        "colab": {
          "base_uri": "https://localhost:8080/",
          "height": 227
        },
        "outputId": "d42bfac6-78d4-458d-d479-13a2e7db5434"
      },
      "source": [
        "df.query(\"HP > 80 and Speed >= 50\")"
      ],
      "execution_count": null,
      "outputs": [
        {
          "output_type": "execute_result",
          "data": {
            "text/html": [
              "<div>\n",
              "<style scoped>\n",
              "    .dataframe tbody tr th:only-of-type {\n",
              "        vertical-align: middle;\n",
              "    }\n",
              "\n",
              "    .dataframe tbody tr th {\n",
              "        vertical-align: top;\n",
              "    }\n",
              "\n",
              "    .dataframe thead th {\n",
              "        text-align: right;\n",
              "    }\n",
              "</style>\n",
              "<table border=\"1\" class=\"dataframe\">\n",
              "  <thead>\n",
              "    <tr style=\"text-align: right;\">\n",
              "      <th></th>\n",
              "      <th>Name</th>\n",
              "      <th>Type 1</th>\n",
              "      <th>Type 2</th>\n",
              "      <th>Total</th>\n",
              "      <th>HP</th>\n",
              "      <th>Attack</th>\n",
              "      <th>Defense</th>\n",
              "      <th>Sp. Atk</th>\n",
              "      <th>Sp. Def</th>\n",
              "      <th>Speed</th>\n",
              "      <th>Generation</th>\n",
              "      <th>Legendary</th>\n",
              "    </tr>\n",
              "  </thead>\n",
              "  <tbody>\n",
              "    <tr>\n",
              "      <th>779</th>\n",
              "      <td>Trevenant</td>\n",
              "      <td>Ghost</td>\n",
              "      <td>Grass</td>\n",
              "      <td>474</td>\n",
              "      <td>85</td>\n",
              "      <td>110</td>\n",
              "      <td>76</td>\n",
              "      <td>65</td>\n",
              "      <td>82</td>\n",
              "      <td>56</td>\n",
              "      <td>6</td>\n",
              "      <td>False</td>\n",
              "    </tr>\n",
              "    <tr>\n",
              "      <th>787</th>\n",
              "      <td>GourgeistSuper Size</td>\n",
              "      <td>Ghost</td>\n",
              "      <td>Grass</td>\n",
              "      <td>494</td>\n",
              "      <td>85</td>\n",
              "      <td>100</td>\n",
              "      <td>122</td>\n",
              "      <td>58</td>\n",
              "      <td>75</td>\n",
              "      <td>54</td>\n",
              "      <td>6</td>\n",
              "      <td>False</td>\n",
              "    </tr>\n",
              "    <tr>\n",
              "      <th>791</th>\n",
              "      <td>Noivern</td>\n",
              "      <td>Flying</td>\n",
              "      <td>Dragon</td>\n",
              "      <td>535</td>\n",
              "      <td>85</td>\n",
              "      <td>70</td>\n",
              "      <td>80</td>\n",
              "      <td>97</td>\n",
              "      <td>80</td>\n",
              "      <td>123</td>\n",
              "      <td>6</td>\n",
              "      <td>False</td>\n",
              "    </tr>\n",
              "    <tr>\n",
              "      <th>792</th>\n",
              "      <td>Xerneas</td>\n",
              "      <td>Fairy</td>\n",
              "      <td>NaN</td>\n",
              "      <td>680</td>\n",
              "      <td>126</td>\n",
              "      <td>131</td>\n",
              "      <td>95</td>\n",
              "      <td>131</td>\n",
              "      <td>98</td>\n",
              "      <td>99</td>\n",
              "      <td>6</td>\n",
              "      <td>True</td>\n",
              "    </tr>\n",
              "    <tr>\n",
              "      <th>793</th>\n",
              "      <td>Yveltal</td>\n",
              "      <td>Dark</td>\n",
              "      <td>Flying</td>\n",
              "      <td>680</td>\n",
              "      <td>126</td>\n",
              "      <td>131</td>\n",
              "      <td>95</td>\n",
              "      <td>131</td>\n",
              "      <td>98</td>\n",
              "      <td>99</td>\n",
              "      <td>6</td>\n",
              "      <td>True</td>\n",
              "    </tr>\n",
              "    <tr>\n",
              "      <th>794</th>\n",
              "      <td>Zygarde50% Forme</td>\n",
              "      <td>Dragon</td>\n",
              "      <td>Ground</td>\n",
              "      <td>600</td>\n",
              "      <td>108</td>\n",
              "      <td>100</td>\n",
              "      <td>121</td>\n",
              "      <td>81</td>\n",
              "      <td>95</td>\n",
              "      <td>95</td>\n",
              "      <td>6</td>\n",
              "      <td>True</td>\n",
              "    </tr>\n",
              "  </tbody>\n",
              "</table>\n",
              "</div>"
            ],
            "text/plain": [
              "                    Name  Type 1  Type 2  ...  Speed  Generation  Legendary\n",
              "779            Trevenant   Ghost   Grass  ...     56           6      False\n",
              "787  GourgeistSuper Size   Ghost   Grass  ...     54           6      False\n",
              "791              Noivern  Flying  Dragon  ...    123           6      False\n",
              "792              Xerneas   Fairy     NaN  ...     99           6       True\n",
              "793              Yveltal    Dark  Flying  ...     99           6       True\n",
              "794     Zygarde50% Forme  Dragon  Ground  ...     95           6       True\n",
              "\n",
              "[6 rows x 12 columns]"
            ]
          },
          "metadata": {
            "tags": []
          },
          "execution_count": 7
        }
      ]
    },
    {
      "cell_type": "markdown",
      "metadata": {
        "id": "ijJIN75o6Eib"
      },
      "source": [
        "Selecionamos os 6 ultimos Pokémons da lista pelo comando:"
      ]
    },
    {
      "cell_type": "code",
      "metadata": {
        "id": "G34CMTYBjiRQ"
      },
      "source": [
        "df.tail(12)\n",
        "df = df.tail(12)"
      ],
      "execution_count": null,
      "outputs": []
    },
    {
      "cell_type": "markdown",
      "metadata": {
        "id": "rIUb6-4dgaDq"
      },
      "source": [
        "Dessa forma, fizemos um grafico do Especial de Ataque dos ultimos 6 Pokémons."
      ]
    },
    {
      "cell_type": "code",
      "metadata": {
        "id": "iVt8ue80ZEqU",
        "colab": {
          "base_uri": "https://localhost:8080/",
          "height": 295
        },
        "outputId": "200194cd-5ccc-43c0-ce19-7f769c81ea3e"
      },
      "source": [
        "df[\"Sp. Atk\"]\n",
        "x = df[\"Sp. Atk\"]\n",
        "plt.plot(x,'r.-')\n",
        "\n",
        "plt.title(\"Especial de Ataque\")\n",
        "plt.xlabel(\"Pokemons\")\n",
        "plt.ylabel(\"Ataque\")\n",
        "\n",
        "plt.grid()"
      ],
      "execution_count": null,
      "outputs": [
        {
          "output_type": "display_data",
          "data": {
            "image/png": "[encoded data removed]",
            "text/plain": [
              "<Figure size 432x288 with 1 Axes>"
            ]
          },
          "metadata": {
            "tags": [],
            "needs_background": "light"
          }
        }
      ]
    },
    {
      "cell_type": "markdown",
      "metadata": {
        "id": "mO83n02Bg2rk"
      },
      "source": [
        "Novamente selecionamos os 6 ultimos Pokémons com o mesmo comando."
      ]
    },
    {
      "cell_type": "code",
      "metadata": {
        "id": "T9P5xI62joGz"
      },
      "source": [
        "df.tail(12)\n",
        "df = df.tail(12)"
      ],
      "execution_count": null,
      "outputs": []
    },
    {
      "cell_type": "markdown",
      "metadata": {
        "id": "IieYnHIfhbZB"
      },
      "source": [
        "E por meio do comando anterior, foi plotado um grafico do Especial de Defesa dos pokémons do comando anterior."
      ]
    },
    {
      "cell_type": "code",
      "metadata": {
        "id": "dOz5VSfveMrE",
        "colab": {
          "base_uri": "https://localhost:8080/",
          "height": 295
        },
        "outputId": "bedd7441-5c79-404b-b382-3090c90cf6e0"
      },
      "source": [
        "df[\"Sp. Def\"]\n",
        "y = df['Sp. Def']\n",
        "plt.plot(y,'b.-')\n",
        "\n",
        "plt.title(\"Sp. Def\")\n",
        "plt.xlabel(\"Pokemons\")\n",
        "plt.ylabel(\"Especial de Defesa\")\n",
        "\n",
        "plt.grid()"
      ],
      "execution_count": null,
      "outputs": [
        {
          "output_type": "display_data",
          "data": {
            "image/png": "[encoded data removed]",
            "text/plain": [
              "<Figure size 432x288 with 1 Axes>"
            ]
          },
          "metadata": {
            "tags": [],
            "needs_background": "light"
          }
        }
      ]
    },
    {
      "cell_type": "markdown",
      "metadata": {
        "id": "qmqWE0rsiVFe"
      },
      "source": [
        "Organizamos os dois gráficos anteriores juntos de uma forma direta e prática, com o intuito de tornar possivel fazer a comparação entre o Especial de Ataque e a Especial de Defesa de cada Pokémon."
      ]
    },
    {
      "cell_type": "code",
      "metadata": {
        "id": "cTVH5OS1JwuB",
        "colab": {
          "base_uri": "https://localhost:8080/",
          "height": 295
        },
        "outputId": "0af5ef21-8d68-4956-87ee-1cfe2f447fed"
      },
      "source": [
        "plt.plot(x,'r.-')\n",
        "plt.plot(y,'b.-')\n",
        "\n",
        "plt.title(\"Especial de Ataque e Defesa\")\n",
        "plt.xlabel(\"Pokemons\")\n",
        "plt.ylabel(\"Ataque e Defesa\")\n",
        "\n",
        "plt.grid()"
      ],
      "execution_count": null,
      "outputs": [
        {
          "output_type": "display_data",
          "data": {
            "image/png": "[encoded data removed]",
            "text/plain": [
              "<Figure size 432x288 with 1 Axes>"
            ]
          },
          "metadata": {
            "tags": [],
            "needs_background": "light"
          }
        }
      ]
    },
    {
      "cell_type": "markdown",
      "metadata": {
        "id": "W6n42gzAd1p-"
      },
      "source": [
        "Gráfico onde mostra o valor do ataque dos ultimos 6 Pokémons selecionados da tabela."
      ]
    },
    {
      "cell_type": "code",
      "metadata": {
        "id": "guse8wRlQi93",
        "colab": {
          "base_uri": "https://localhost:8080/",
          "height": 279
        },
        "outputId": "97a58e22-c4a5-48f1-f12c-5bc13335a2ae"
      },
      "source": [
        "df.tail(12)\n",
        "df = df.tail(12)\n",
        "\n",
        "df[\"Attack\"]\n",
        "y2 = df['Attack']\n",
        "plt.plot(y2,'g.-')\n",
        "\n",
        "plt.xlabel(\"Pokemons\")\n",
        "plt.ylabel(\"Attack\")\n",
        "plt.grid()"
      ],
      "execution_count": null,
      "outputs": [
        {
          "output_type": "display_data",
          "data": {
            "image/png": "[encoded data removed]",
            "text/plain": [
              "<Figure size 432x288 with 1 Axes>"
            ]
          },
          "metadata": {
            "tags": [],
            "needs_background": "light"
          }
        }
      ]
    },
    {
      "cell_type": "markdown",
      "metadata": {
        "id": "4YPjSAsLd9hE"
      },
      "source": [
        "Assim como no gráfico anterior, utilizamos os mesmos Pokémons para a comparação da defesa em relação do Especial de Ataque, Especial de Defesa e o Attack. Nesse Gráfico, mostramos ``APENAS`` a ``defesa``dos mesmos que foram comparados."
      ]
    },
    {
      "cell_type": "code",
      "metadata": {
        "id": "7oW2JsjQQwQO",
        "colab": {
          "base_uri": "https://localhost:8080/",
          "height": 279
        },
        "outputId": "75ca221e-9d8b-42c6-e330-b271ef3d195a"
      },
      "source": [
        "df.tail(12)\n",
        "df = df.tail(12)\n",
        "\n",
        "df[\"Defense\"]\n",
        "x2 = df['Defense']\n",
        "plt.plot(x2,'r.-')\n",
        "\n",
        "plt.xlabel(\"Pokemons\")\n",
        "plt.ylabel(\"Defesa\")\n",
        "plt.grid()"
      ],
      "execution_count": null,
      "outputs": [
        {
          "output_type": "display_data",
          "data": {
            "image/png": "[encoded data removed]",
            "text/plain": [
              "<Figure size 432x288 with 1 Axes>"
            ]
          },
          "metadata": {
            "tags": [],
            "needs_background": "light"
          }
        }
      ]
    },
    {
      "cell_type": "markdown",
      "metadata": {
        "id": "tVbaD2EVd5Cz"
      },
      "source": [
        "Organizamos os dois gráficos anteriores juntos de uma forma direta e prática, com o intuito de tornar possivel fazer a comparação entre o Ataque e a Defesa de cada Pokémon."
      ]
    },
    {
      "cell_type": "code",
      "metadata": {
        "colab": {
          "base_uri": "https://localhost:8080/",
          "height": 295
        },
        "id": "P4xX0DQOmnsd",
        "outputId": "67a9d4b9-b51d-401e-d229-aad3197f6c25"
      },
      "source": [
        "plt.plot(x2,'g.-')\n",
        "plt.plot(y2,'r.-')\n",
        "\n",
        "plt.title(\"Ataque e Defesa\")\n",
        "plt.xlabel(\"Pokemons\")\n",
        "plt.ylabel(\"Ataque e Defesa\")\n",
        "\n",
        "plt.grid()"
      ],
      "execution_count": null,
      "outputs": [
        {
          "output_type": "display_data",
          "data": {
            "image/png": "[encoded data removed]",
            "text/plain": [
              "<Figure size 432x288 with 1 Axes>"
            ]
          },
          "metadata": {
            "tags": [],
            "needs_background": "light"
          }
        }
      ]
    },
    {
      "cell_type": "markdown",
      "metadata": {
        "id": "gnOg4qHYfw9-"
      },
      "source": [
        "No gráfico a seguir, plotamos o Especial de Ataque, Especial de Defesa, Attack e Defesa em um gráfico de barras para observar a força máxima de cada Pokémon em cada categoria."
      ]
    },
    {
      "cell_type": "code",
      "metadata": {
        "id": "8GxmPGvaQZkx",
        "colab": {
          "base_uri": "https://localhost:8080/",
          "height": 282
        },
        "outputId": "427dd0bf-e977-4da5-c9e6-51ee2ee32129"
      },
      "source": [
        "grupos = [\"Sp. Atk\",\"Sp. Def\",\"Attack\",\"Defense\"]\n",
        "valores = [170,150,160,181]\n",
        "plt.bar(grupos,valores)\n",
        "plt.show"
      ],
      "execution_count": null,
      "outputs": [
        {
          "output_type": "execute_result",
          "data": {
            "text/plain": [
              "<function matplotlib.pyplot.show>"
            ]
          },
          "metadata": {
            "tags": []
          },
          "execution_count": 17
        },
        {
          "output_type": "display_data",
          "data": {
            "image/png": "[encoded data removed]",
            "text/plain": [
              "<Figure size 432x288 with 1 Axes>"
            ]
          },
          "metadata": {
            "tags": [],
            "needs_background": "light"
          }
        }
      ]
    }
  ]
}
